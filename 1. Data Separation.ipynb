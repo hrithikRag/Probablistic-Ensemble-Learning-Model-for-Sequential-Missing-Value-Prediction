{
 "cells": [
  {
   "cell_type": "code",
   "execution_count": 1,
   "id": "8da51841",
   "metadata": {},
   "outputs": [],
   "source": [
    "import warnings\n",
    "warnings.filterwarnings('ignore')\n",
    "import random\n",
    "#importing the libraries\n",
    "import numpy as np\n",
    "import pandas as pd\n",
    "\n",
    "path=\"D:/Workspace/Projects/BayesianLearning/Project1_Data/CSV/\"\n",
    "test=pd.DataFrame(columns=['Actual'])"
   ]
  },
  {
   "cell_type": "code",
   "execution_count": 2,
   "id": "5404c812",
   "metadata": {},
   "outputs": [],
   "source": [
    "for k in [1,2,5,7,8]:\n",
    "    #Session Data Splitter\n",
    "    df=pd.read_csv(path+'Node_50'+str(k)+'.csv')\n",
    "    df['timestamp'] = pd.to_datetime(df['timestamp'], format='%d/%m/00%y %H:%M')\n",
    "    df['timediff']=df['timestamp'].diff().apply(lambda x: x/np.timedelta64(1, 'm')).fillna(0).astype('int64')\n",
    "    cutlist=[0]\n",
    "    for index, row in df.iterrows():\n",
    "        if abs(row['timediff'])>=120:\n",
    "            cutlist.append(index)\n",
    "    cutlist.append(df.shape[0])\n",
    "    \n",
    "    for i in range(1,len(cutlist)):\n",
    "        session=df.iloc[cutlist[i-1]:cutlist[i],:4]\n",
    "        session.to_csv(path+'Sessions/PredS_N50'+str(k)+'_'+str(i).zfill(2)+'.csv',index=False)\n",
    "        session.to_csv(path+'Sessions/PredSO_N50'+str(k)+'_'+str(i).zfill(2)+'.csv',index=False)\n",
    "    \n",
    "    df.dropna(inplace = True)\n",
    "    df.reset_index(drop=True, inplace=True)\n",
    "\n",
    "    #Random Test Data Generation\n",
    "    rlist=[]\n",
    "    while len(rlist)<80:\n",
    "        val = random.randint(2, df.shape[0]-3)\n",
    "        if val not in rlist and len(list(set([*range(val-2,val+3)]) & set(rlist)))<=1:\n",
    "            rlist.append(val)\n",
    "\n",
    "    for index, row in df.iterrows():\n",
    "        select = random.randint(0, 1)\n",
    "        if index in rlist and select==0:\n",
    "            new_row = pd.Series([row['temperature']], index=test.columns)\n",
    "            test = test.append(new_row,ignore_index=True)\n",
    "            df.at[index,'temperature'] = np.nan\n",
    "        if index in rlist and select==1:\n",
    "            new_row = pd.Series([row['humidity']], index=test.columns)\n",
    "            test = test.append(new_row,ignore_index=True)\n",
    "            df.at[index,'humidity'] = np.nan\n",
    "    \n",
    "    #Test Data Splitter\n",
    "    df.to_csv(path+'Sessions/TN_50'+str(k)+'.csv',index=False)\n",
    "    df['timediff']=df['timestamp'].diff().apply(lambda x: x/np.timedelta64(1, 'm')).fillna(0).astype('int64')\n",
    "    testcutlist=[0]\n",
    "    for index, row in df.iterrows():\n",
    "        if abs(row['timediff'])>=120:\n",
    "            testcutlist.append(index)\n",
    "    testcutlist.append(df.shape[0])\n",
    "\n",
    "    for i in range(1,len(testcutlist)):\n",
    "        session=df.iloc[testcutlist[i-1]:testcutlist[i],:4]\n",
    "        session.to_csv(path+'Sessions/TestS_N50'+str(k)+'_'+str(i).zfill(2)+'.csv',index=False)\n",
    "        session.to_csv(path+'Sessions/TestSO_N50'+str(k)+'_'+str(i).zfill(2)+'.csv',index=False)"
   ]
  },
  {
   "cell_type": "code",
   "execution_count": 3,
   "id": "788118df",
   "metadata": {},
   "outputs": [],
   "source": [
    "test = test.astype({'Actual':'float64'})\n",
    "test.to_csv('D:/Workspace/Projects/BayesianLearning/Project1_Data/CSV/Sessions/TestActualData.csv',index=False)"
   ]
  }
 ],
 "metadata": {
  "kernelspec": {
   "display_name": "Python 3 (ipykernel)",
   "language": "python",
   "name": "python3"
  },
  "language_info": {
   "codemirror_mode": {
    "name": "ipython",
    "version": 3
   },
   "file_extension": ".py",
   "mimetype": "text/x-python",
   "name": "python",
   "nbconvert_exporter": "python",
   "pygments_lexer": "ipython3",
   "version": "3.9.12"
  }
 },
 "nbformat": 4,
 "nbformat_minor": 5
}
