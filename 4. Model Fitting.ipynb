{
 "cells": [
  {
   "cell_type": "code",
   "execution_count": 1,
   "id": "c92ec026",
   "metadata": {},
   "outputs": [],
   "source": [
    "import warnings\n",
    "warnings.filterwarnings('ignore')\n",
    "from tqdm.autonotebook import tqdm\n",
    "#importing the libraries\n",
    "import numpy as np\n",
    "import pandas as pd\n",
    "import matplotlib.pyplot as plt\n",
    "import seaborn as sns\n",
    "from scipy.stats.mstats import gmean\n",
    "from scipy.stats.mstats import hmean\n",
    "from sklearn.model_selection import train_test_split\n",
    "from sklearn.preprocessing import PolynomialFeatures\n",
    "from sklearn.linear_model import LinearRegression\n",
    "from sklearn.linear_model import BayesianRidge\n",
    "from sklearn.gaussian_process import GaussianProcessRegressor\n",
    "from sklearn.gaussian_process.kernels import RBF, DotProduct, WhiteKernel\n",
    "import statsmodels.api as sm\n",
    "from itertools import combinations\n",
    "from pathlib import Path\n",
    "import pickle\n",
    "import datetime"
   ]
  },
  {
   "cell_type": "code",
   "execution_count": 2,
   "id": "fa75c325",
   "metadata": {},
   "outputs": [],
   "source": [
    "#Hyperparamaters\n",
    "w1 = 100\n",
    "w2 = 3300\n",
    "w3 = 3000\n",
    "w4 = 13000\n",
    "w5 = 22000\n",
    "extent1 = 4\n",
    "extent2 = 3\n",
    "extent3 = 70\n",
    "extent4 = 2\n",
    "extent5 = 130"
   ]
  },
  {
   "cell_type": "code",
   "execution_count": 3,
   "id": "56990d7a",
   "metadata": {},
   "outputs": [],
   "source": [
    "#Path locations\n",
    "path_dir = Path('D:/Workspace/Projects/BayesianLearning/Project1_Data/CSV/Sessions')\n",
    "path = 'D:/Workspace/Projects/BayesianLearning/Project1_Data/CSV/Sessions'\n",
    "testval = pd.read_csv(path+'/TestActualData.csv')\n",
    "spatialt = pd.read_csv(path+'/spatialT.csv')\n",
    "spatialh = pd.read_csv(path+'/spatialH.csv')\n",
    "testt = pd.read_csv(path+'/testT.csv')\n",
    "testh = pd.read_csv(path+'/testH.csv')\n",
    "with open(path+'/ID2Index', 'rb') as handle:\n",
    "    ID2Index = pickle.load(handle)\n",
    "with open(path+'/TestID2Index', 'rb') as handle:\n",
    "    TestID2Index = pickle.load(handle)"
   ]
  },
  {
   "cell_type": "code",
   "execution_count": 4,
   "id": "3a181e00",
   "metadata": {},
   "outputs": [],
   "source": [
    "#probabilistic ensemble model function\n",
    "def MLPred(y, data, spatial, did, id2index, xval, index, extent1, extent2, extent3, extent4, extent5, w1, w2, w3, w4, w5, deg, r):\n",
    "\n",
    "    #Bayesian Ridge Polynomial Model (Predictor variable) Dataset Configuration\n",
    "    if index-extent1>=0 and index+extent1+1<=data.shape[0]:\n",
    "        D1=data.iloc[index-extent1:index+extent1+1,2:4]\n",
    "    elif index-extent1<=0 and index+extent1+1>=data.shape[0]:\n",
    "        D1=data.iloc[:,2:4]\n",
    "    elif index-extent1<=0:\n",
    "        D1=data.iloc[0:extent1*2+1,2:4]\n",
    "    else:\n",
    "        D1=data.iloc[data.shape[0]-extent1*2:data.shape[0],2:4]\n",
    "    D1.dropna(inplace = True)\n",
    "    if y=='h':\n",
    "        X1=D1.iloc[:,0:1].values\n",
    "        Y1=D1.iloc[:,1].values\n",
    "    elif y=='t':\n",
    "        X1=D1.iloc[:,1:2].values\n",
    "        Y1=D1.iloc[:,0].values\n",
    "    w1=max(0,w1*(((D1.shape[0]-deg)/(2*extent1-deg))**deg))\n",
    "    \n",
    "    #Bayesian Ridge Linear Model (Predictor variable) Dataset Configuration\n",
    "    if index-extent2>=0 and index+extent2+1<=data.shape[0]:\n",
    "        D2=data.iloc[index-extent2:index+extent2+1,2:4]\n",
    "    elif index-extent2<=0 and index+extent2+1>=data.shape[0]:\n",
    "        D2=data.iloc[:,2:4]\n",
    "    elif index-extent2<=0:\n",
    "        D2=data.iloc[0:extent2*2+1,2:4]\n",
    "    else:\n",
    "        D2=data.iloc[data.shape[0]-extent2*2:data.shape[0],2:4]\n",
    "    D2.dropna(inplace = True)\n",
    "    if D2.shape[0]<=extent2:\n",
    "        w2=0\n",
    "    if y=='h':\n",
    "        X2=D2.iloc[:,0:1].values\n",
    "        Y2=D2.iloc[:,1].values\n",
    "    elif y=='t':\n",
    "        X2=D2.iloc[:,1:2].values\n",
    "        Y2=D2.iloc[:,0].values\n",
    "    w2=max(0,w2*(D1.shape[0]-1)/(2*extent1-1))\n",
    "        \n",
    "    #Gaussian Process Regression Model (Objective variable - spatial/at other nodes) Dataset Configuration\n",
    "    sid=id2index[did]\n",
    "        \n",
    "    if 1 <= did <= 1367:\n",
    "        node = 1\n",
    "    elif 1368 <= did <= 2621:\n",
    "        node = 2\n",
    "    elif 2622 <= did <= 3989:\n",
    "        node = 5\n",
    "    elif 3990 <= did <= 5352:\n",
    "        node = 7\n",
    "    elif 5353 <= did <= 6583:\n",
    "        node = 8\n",
    "        \n",
    "    spatialo=spatial.copy()\n",
    "    xvec=spatialo.iloc[sid-1:sid+1+1,:]\n",
    "    xvec.drop(['X'+str(node),'ID'], axis=1, inplace=True)\n",
    "    xvec.dropna(inplace = True)\n",
    "    if xvec.shape[0]==0:\n",
    "        w3=0\n",
    "    \n",
    "    adj=0\n",
    "    if sid-extent3>=0 and sid+extent3+1<=spatialo.shape[0]:\n",
    "        while abs(spatialo['timestamp'].iloc[sid+extent3-adj]-spatialo['timestamp'].iloc[sid-extent3+adj])>(extent3-adj)*r:\n",
    "            adj+=1\n",
    "            if adj==extent3:\n",
    "                w3=0\n",
    "            if not w3:\n",
    "                break\n",
    "        if w3:\n",
    "            D3=spatialo.iloc[sid-extent3+adj:sid+extent3-adj+1,:]\n",
    "    elif sid-extent3<0:\n",
    "        while abs(spatialo['timestamp'].iloc[extent3*2-adj]-spatialo['timestamp'].iloc[0+adj])>(extent3-adj)*r:\n",
    "            adj+=1\n",
    "            if adj==extent3:\n",
    "                w3=0\n",
    "            if not w3:\n",
    "                break\n",
    "        if w3:\n",
    "            D3=spatialo.iloc[0+adj:extent3*2-adj+1]\n",
    "    elif sid+extent3+1>spatialo.shape[0]:\n",
    "        while abs(spatialo['timestamp'].iloc[spatialo.shape[0]-1-adj]-spatialo['timestamp'].iloc[spatialo.shape[0]-extent3*2+adj])>(extent3-adj)*r:\n",
    "            adj+=1\n",
    "            if adj==extent3:\n",
    "                w3=0\n",
    "            if not w3:\n",
    "                break\n",
    "        if w3:\n",
    "            D3=spatialo.iloc[spatialo.shape[0]-extent3*2+adj:spatialo.shape[0]-adj,:]\n",
    "    if w3:\n",
    "        D3.dropna(inplace = True)\n",
    "        if D3.shape[0]<5:\n",
    "            w3=0\n",
    "        Y3=D3['X'+str(node)]\n",
    "        D3.drop(['X'+str(node),'ID'], axis=1, inplace=True)\n",
    "        X3=D3\n",
    "        w3=max(0,w3*((D3.shape[0]-5)/(2*extent3-5)))\n",
    "\n",
    "    \n",
    "    #Bayesian Ridge Polynomial Model (Objective variable - temporal) Dataset Configuration\n",
    "    sta=datetime.datetime(2014, 1, 1)\n",
    "    data['timestamp'] = pd.to_datetime(data['timestamp'], format='%Y-%m-%d %H:%M:%S')\n",
    "    data['timestamp']=data['timestamp']-sta\n",
    "    data['timestamp'] = (data['timestamp']).apply(lambda x: x/np.timedelta64(1, 'm')).fillna(0).astype('int64')\n",
    "    xtime = data.at[index, 'timestamp']\n",
    "    if index-extent4>=0 and index+extent4+1<=data.shape[0]:\n",
    "        D4=data.iloc[index-extent4:index+extent4+1,1:4]\n",
    "    elif index-extent4<=0 and index+extent4+1>=data.shape[0]:\n",
    "        D4=data.iloc[:,1:4]\n",
    "    elif index-extent4<=0:\n",
    "        D4=data.iloc[0:extent4*2+1,1:4]\n",
    "    else:\n",
    "        D4=data.iloc[data.shape[0]-extent4*2:data.shape[0],1:4]\n",
    "    D4.dropna(inplace = True)\n",
    "    \n",
    "    if y=='h':\n",
    "        X4=D4.iloc[:,0:1].values\n",
    "        Y4=D4.iloc[:,2].values\n",
    "    elif y=='t':\n",
    "        X4=D4.iloc[:,0:1].values\n",
    "        Y4=D4.iloc[:,1].values\n",
    "    tdeg=1\n",
    "    if D4.shape[0]==0:\n",
    "        w4=0\n",
    "    elif D4.shape[0]>2:\n",
    "        tdeg=2\n",
    "    \n",
    "    \n",
    "    #Bayesian Ridge Linear Model (Objective variable - spatial/at other nodes) Dataset Configuration\n",
    "    spatialb= spatial.copy()\n",
    "    xvec5=spatialb.iloc[sid-1:sid+1+1,:]\n",
    "    xvec5.drop(['X'+str(node),'ID', 'timestamp'], axis=1, inplace=True)\n",
    "    xvec5.dropna(inplace = True)\n",
    "    if xvec5.shape[0]==0:\n",
    "        w5=0\n",
    "    \n",
    "    adj=0\n",
    "    if sid-extent5>=0 and sid+extent5+1<=spatialb.shape[0]:\n",
    "        while abs(spatialb['timestamp'].iloc[sid+extent5-adj]-spatialb['timestamp'].iloc[sid-extent5+adj])>(extent5-adj)*r:\n",
    "            adj+=1\n",
    "            if adj==extent5:\n",
    "                w5=0\n",
    "            if not w5:\n",
    "                break\n",
    "        if w5:\n",
    "            D5=spatialb.iloc[sid-extent5+adj:sid+extent5-adj+1,:]\n",
    "    elif sid-extent5<0:\n",
    "        while abs(spatialb['timestamp'].iloc[extent5*2-adj]-spatialb['timestamp'].iloc[0+adj])>(extent5-adj)*r:\n",
    "            adj+=1\n",
    "            if adj==extent5:\n",
    "                w5=0\n",
    "            if not w5:\n",
    "                break\n",
    "        if w5:\n",
    "            D5=spatialb.iloc[0+adj:extent5*2-adj+1]\n",
    "    elif sid+extent5+1>spatialb.shape[0]:\n",
    "        while abs(spatialb['timestamp'].iloc[spatialb.shape[0]-1-adj]-spatialb['timestamp'].iloc[spatialb.shape[0]-extent5*2+adj])>(extent5-adj)*r:\n",
    "            adj+=1\n",
    "            if adj==extent5:\n",
    "                w5=0\n",
    "            if not w5:\n",
    "                break\n",
    "        if w5:\n",
    "            D5=spatialb.iloc[spatialb.shape[0]-extent5*2+adj:spatialb.shape[0]-adj,:]\n",
    "    if w5:\n",
    "        D5.dropna(inplace = True)\n",
    "        if D5.shape[0]<5:\n",
    "            w5=0\n",
    "        Y5=D5['X'+str(node)]\n",
    "        D5.drop(['X'+str(node),'ID', 'timestamp'], axis=1, inplace=True)\n",
    "        X5=D5\n",
    "        w5=max(0,w5*((D5.shape[0]-5)/(2*extent5-5)))\n",
    "    \n",
    "    #Model Definitions\n",
    "    if w1:\n",
    "        poly_reg=PolynomialFeatures(degree=deg,include_bias=False)\n",
    "        X_poly=poly_reg.fit_transform(X1)\n",
    "        poly_reg.fit(X_poly,Y1)\n",
    "        ML_reg=BayesianRidge()\n",
    "        ML_reg.fit(X_poly,Y1)\n",
    "        polypred=ML_reg.predict(poly_reg.fit_transform([[xval]]))\n",
    "        Y_p=polypred[0]\n",
    "    else:\n",
    "        Y_p=0\n",
    "        \n",
    "    if w2:\n",
    "        LR_reg=BayesianRidge()\n",
    "        LR_reg.fit(X2,Y2)\n",
    "        lrpred=LR_reg.predict([[xval]])\n",
    "        Y_l=lrpred[0]\n",
    "    else:\n",
    "        Y_l=0\n",
    "        \n",
    "    if w3:\n",
    "        kernel = 1.0 * RBF(length_scale=1.0, length_scale_bounds=(1e-2, 1e2))\n",
    "        LO_reg=GaussianProcessRegressor(kernel=kernel)\n",
    "        LO_reg.fit(X3,Y3)\n",
    "        lopred=LO_reg.predict(xvec)\n",
    "        Y_o=lopred.mean()\n",
    "    else:\n",
    "        Y_o=0\n",
    "        \n",
    "    if w4:\n",
    "        if D4.shape[0]==1:\n",
    "            Y_t=Y4.mean()\n",
    "        else:\n",
    "            poly_reg4=PolynomialFeatures(degree=tdeg,include_bias=False)\n",
    "            X_poly4=poly_reg4.fit_transform(X4)\n",
    "            poly_reg4.fit(X_poly4,Y4)\n",
    "            ML_reg4=BayesianRidge()\n",
    "            ML_reg4.fit(X_poly4,Y4)\n",
    "            polypred4=ML_reg4.predict(poly_reg4.fit_transform([[xtime]]))\n",
    "            Y_t=polypred4[0]\n",
    "    else:\n",
    "        Y_t=0\n",
    "        \n",
    "    if w5:\n",
    "        LB_reg=BayesianRidge()\n",
    "        LB_reg.fit(X5,Y5)\n",
    "        lbpred=LB_reg.predict(xvec5)\n",
    "        Y_b=lbpred.mean()\n",
    "    else:\n",
    "        Y_b=0\n",
    "    \n",
    "    #Absurd value detection algorithm\n",
    "    if y == 't':\n",
    "        MAXPOSVALUE=38\n",
    "        MINPOSVALUE=8\n",
    "    elif y == 'h':\n",
    "        MAXPOSVALUE=78\n",
    "        MINPOSVALUE=-26\n",
    "        \n",
    "    if MINPOSVALUE>Y_p or Y_p>MAXPOSVALUE:\n",
    "        w1=0\n",
    "        Y_p=0\n",
    "    if MINPOSVALUE>Y_l or Y_l>MAXPOSVALUE:\n",
    "        w2=0\n",
    "        Y_l=0\n",
    "    if MINPOSVALUE>Y_o or Y_o>MAXPOSVALUE:\n",
    "        w3=0\n",
    "        Y_o=0\n",
    "    if MINPOSVALUE>Y_t or Y_t>MAXPOSVALUE:\n",
    "        w4=0\n",
    "        Y_t=0\n",
    "    if MINPOSVALUE>Y_b or Y_b>MAXPOSVALUE:\n",
    "        w5=0\n",
    "        Y_b=0\n",
    "    \n",
    "    if abs(Y_p)<=0.001:\n",
    "        w1=0\n",
    "    if abs(Y_l)<=0.001:\n",
    "        w2=0\n",
    "    if abs(Y_o)<=0.001:\n",
    "        w3=0\n",
    "    if abs(Y_b)<=0.001:\n",
    "        w5=0\n",
    "    \n",
    "    \n",
    "    ylist = [i for i in [Y_p, Y_l, Y_o, Y_t, Y_b] if i != 0]\n",
    "    stdlist=[]\n",
    "    clist=[]\n",
    "    for c in ylist:\n",
    "        chk1=np.mean([abs(i[0]-i[1]) for i in list(combinations([i for i in ylist if i != c],2))])\n",
    "        chk2=np.mean([abs(i-c) for i in ylist if i != c])\n",
    "        stdlist.append(abs(chk1-chk2))\n",
    "        clist.append(c)\n",
    "    for i in range(len(clist)):\n",
    "        if len(stdlist)>2 and stdlist[i]==max(stdlist) and stdlist[i]>=2*np.mean([j for j in stdlist if j != stdlist[i]]):\n",
    "            c = clist[i]\n",
    "            if Y_p==c:\n",
    "                w1=0\n",
    "            elif Y_l==c:\n",
    "                w2=0\n",
    "            elif Y_o==c:\n",
    "                w3=0\n",
    "            elif Y_t==c:\n",
    "                w4=0\n",
    "            elif Y_b==c:\n",
    "                w5=0\n",
    "    return (w1*Y_p+w2*Y_l+w3*Y_o+w4*Y_t+w5*Y_b)/(w1+w2+w3+w4+w5)"
   ]
  },
  {
   "cell_type": "code",
   "execution_count": 5,
   "id": "03797e2b",
   "metadata": {
    "scrolled": true
   },
   "outputs": [
    {
     "data": {
      "application/vnd.jupyter.widget-view+json": {
       "model_id": "fc08d1a20cf34e90aba18e57714012fb",
       "version_major": 2,
       "version_minor": 0
      },
      "text/plain": [
       "  0%|          | 0/5 [00:00<?, ?it/s]"
      ]
     },
     "metadata": {},
     "output_type": "display_data"
    },
    {
     "data": {
      "application/vnd.jupyter.widget-view+json": {
       "model_id": "",
       "version_major": 2,
       "version_minor": 0
      },
      "text/plain": [
       "  0%|          | 0/8 [00:00<?, ?it/s]"
      ]
     },
     "metadata": {},
     "output_type": "display_data"
    },
    {
     "data": {
      "application/vnd.jupyter.widget-view+json": {
       "model_id": "",
       "version_major": 2,
       "version_minor": 0
      },
      "text/plain": [
       "  0%|          | 0/140 [00:00<?, ?it/s]"
      ]
     },
     "metadata": {},
     "output_type": "display_data"
    },
    {
     "data": {
      "application/vnd.jupyter.widget-view+json": {
       "model_id": "",
       "version_major": 2,
       "version_minor": 0
      },
      "text/plain": [
       "  0%|          | 0/5 [00:00<?, ?it/s]"
      ]
     },
     "metadata": {},
     "output_type": "display_data"
    },
    {
     "data": {
      "application/vnd.jupyter.widget-view+json": {
       "model_id": "",
       "version_major": 2,
       "version_minor": 0
      },
      "text/plain": [
       "  0%|          | 0/80 [00:00<?, ?it/s]"
      ]
     },
     "metadata": {},
     "output_type": "display_data"
    },
    {
     "data": {
      "application/vnd.jupyter.widget-view+json": {
       "model_id": "",
       "version_major": 2,
       "version_minor": 0
      },
      "text/plain": [
       "  0%|          | 0/2 [00:00<?, ?it/s]"
      ]
     },
     "metadata": {},
     "output_type": "display_data"
    },
    {
     "data": {
      "application/vnd.jupyter.widget-view+json": {
       "model_id": "",
       "version_major": 2,
       "version_minor": 0
      },
      "text/plain": [
       "  0%|          | 0/364 [00:00<?, ?it/s]"
      ]
     },
     "metadata": {},
     "output_type": "display_data"
    },
    {
     "data": {
      "application/vnd.jupyter.widget-view+json": {
       "model_id": "",
       "version_major": 2,
       "version_minor": 0
      },
      "text/plain": [
       "  0%|          | 0/516 [00:00<?, ?it/s]"
      ]
     },
     "metadata": {},
     "output_type": "display_data"
    },
    {
     "data": {
      "application/vnd.jupyter.widget-view+json": {
       "model_id": "",
       "version_major": 2,
       "version_minor": 0
      },
      "text/plain": [
       "  0%|          | 0/115 [00:00<?, ?it/s]"
      ]
     },
     "metadata": {},
     "output_type": "display_data"
    },
    {
     "data": {
      "application/vnd.jupyter.widget-view+json": {
       "model_id": "",
       "version_major": 2,
       "version_minor": 0
      },
      "text/plain": [
       "  0%|          | 0/145 [00:00<?, ?it/s]"
      ]
     },
     "metadata": {},
     "output_type": "display_data"
    },
    {
     "data": {
      "application/vnd.jupyter.widget-view+json": {
       "model_id": "",
       "version_major": 2,
       "version_minor": 0
      },
      "text/plain": [
       "  0%|          | 0/8 [00:00<?, ?it/s]"
      ]
     },
     "metadata": {},
     "output_type": "display_data"
    },
    {
     "data": {
      "application/vnd.jupyter.widget-view+json": {
       "model_id": "",
       "version_major": 2,
       "version_minor": 0
      },
      "text/plain": [
       "  0%|          | 0/140 [00:00<?, ?it/s]"
      ]
     },
     "metadata": {},
     "output_type": "display_data"
    },
    {
     "data": {
      "application/vnd.jupyter.widget-view+json": {
       "model_id": "",
       "version_major": 2,
       "version_minor": 0
      },
      "text/plain": [
       "  0%|          | 0/5 [00:00<?, ?it/s]"
      ]
     },
     "metadata": {},
     "output_type": "display_data"
    },
    {
     "data": {
      "application/vnd.jupyter.widget-view+json": {
       "model_id": "",
       "version_major": 2,
       "version_minor": 0
      },
      "text/plain": [
       "  0%|          | 0/78 [00:00<?, ?it/s]"
      ]
     },
     "metadata": {},
     "output_type": "display_data"
    },
    {
     "data": {
      "application/vnd.jupyter.widget-view+json": {
       "model_id": "",
       "version_major": 2,
       "version_minor": 0
      },
      "text/plain": [
       "  0%|          | 0/2 [00:00<?, ?it/s]"
      ]
     },
     "metadata": {},
     "output_type": "display_data"
    },
    {
     "data": {
      "application/vnd.jupyter.widget-view+json": {
       "model_id": "",
       "version_major": 2,
       "version_minor": 0
      },
      "text/plain": [
       "  0%|          | 0/322 [00:00<?, ?it/s]"
      ]
     },
     "metadata": {},
     "output_type": "display_data"
    },
    {
     "data": {
      "application/vnd.jupyter.widget-view+json": {
       "model_id": "",
       "version_major": 2,
       "version_minor": 0
      },
      "text/plain": [
       "  0%|          | 0/463 [00:00<?, ?it/s]"
      ]
     },
     "metadata": {},
     "output_type": "display_data"
    },
    {
     "data": {
      "application/vnd.jupyter.widget-view+json": {
       "model_id": "",
       "version_major": 2,
       "version_minor": 0
      },
      "text/plain": [
       "  0%|          | 0/106 [00:00<?, ?it/s]"
      ]
     },
     "metadata": {},
     "output_type": "display_data"
    },
    {
     "data": {
      "application/vnd.jupyter.widget-view+json": {
       "model_id": "",
       "version_major": 2,
       "version_minor": 0
      },
      "text/plain": [
       "  0%|          | 0/138 [00:00<?, ?it/s]"
      ]
     },
     "metadata": {},
     "output_type": "display_data"
    },
    {
     "data": {
      "application/vnd.jupyter.widget-view+json": {
       "model_id": "",
       "version_major": 2,
       "version_minor": 0
      },
      "text/plain": [
       "  0%|          | 0/8 [00:00<?, ?it/s]"
      ]
     },
     "metadata": {},
     "output_type": "display_data"
    },
    {
     "data": {
      "application/vnd.jupyter.widget-view+json": {
       "model_id": "",
       "version_major": 2,
       "version_minor": 0
      },
      "text/plain": [
       "  0%|          | 0/140 [00:00<?, ?it/s]"
      ]
     },
     "metadata": {},
     "output_type": "display_data"
    },
    {
     "data": {
      "application/vnd.jupyter.widget-view+json": {
       "model_id": "",
       "version_major": 2,
       "version_minor": 0
      },
      "text/plain": [
       "  0%|          | 0/5 [00:00<?, ?it/s]"
      ]
     },
     "metadata": {},
     "output_type": "display_data"
    },
    {
     "data": {
      "application/vnd.jupyter.widget-view+json": {
       "model_id": "",
       "version_major": 2,
       "version_minor": 0
      },
      "text/plain": [
       "  0%|          | 0/80 [00:00<?, ?it/s]"
      ]
     },
     "metadata": {},
     "output_type": "display_data"
    },
    {
     "data": {
      "application/vnd.jupyter.widget-view+json": {
       "model_id": "",
       "version_major": 2,
       "version_minor": 0
      },
      "text/plain": [
       "  0%|          | 0/2 [00:00<?, ?it/s]"
      ]
     },
     "metadata": {},
     "output_type": "display_data"
    },
    {
     "data": {
      "application/vnd.jupyter.widget-view+json": {
       "model_id": "",
       "version_major": 2,
       "version_minor": 0
      },
      "text/plain": [
       "  0%|          | 0/365 [00:00<?, ?it/s]"
      ]
     },
     "metadata": {},
     "output_type": "display_data"
    },
    {
     "data": {
      "application/vnd.jupyter.widget-view+json": {
       "model_id": "",
       "version_major": 2,
       "version_minor": 0
      },
      "text/plain": [
       "  0%|          | 0/516 [00:00<?, ?it/s]"
      ]
     },
     "metadata": {},
     "output_type": "display_data"
    },
    {
     "data": {
      "application/vnd.jupyter.widget-view+json": {
       "model_id": "",
       "version_major": 2,
       "version_minor": 0
      },
      "text/plain": [
       "  0%|          | 0/115 [00:00<?, ?it/s]"
      ]
     },
     "metadata": {},
     "output_type": "display_data"
    },
    {
     "data": {
      "application/vnd.jupyter.widget-view+json": {
       "model_id": "",
       "version_major": 2,
       "version_minor": 0
      },
      "text/plain": [
       "  0%|          | 0/145 [00:00<?, ?it/s]"
      ]
     },
     "metadata": {},
     "output_type": "display_data"
    },
    {
     "data": {
      "application/vnd.jupyter.widget-view+json": {
       "model_id": "",
       "version_major": 2,
       "version_minor": 0
      },
      "text/plain": [
       "  0%|          | 0/8 [00:00<?, ?it/s]"
      ]
     },
     "metadata": {},
     "output_type": "display_data"
    },
    {
     "data": {
      "application/vnd.jupyter.widget-view+json": {
       "model_id": "",
       "version_major": 2,
       "version_minor": 0
      },
      "text/plain": [
       "  0%|          | 0/140 [00:00<?, ?it/s]"
      ]
     },
     "metadata": {},
     "output_type": "display_data"
    },
    {
     "data": {
      "application/vnd.jupyter.widget-view+json": {
       "model_id": "",
       "version_major": 2,
       "version_minor": 0
      },
      "text/plain": [
       "  0%|          | 0/5 [00:00<?, ?it/s]"
      ]
     },
     "metadata": {},
     "output_type": "display_data"
    },
    {
     "data": {
      "application/vnd.jupyter.widget-view+json": {
       "model_id": "",
       "version_major": 2,
       "version_minor": 0
      },
      "text/plain": [
       "  0%|          | 0/79 [00:00<?, ?it/s]"
      ]
     },
     "metadata": {},
     "output_type": "display_data"
    },
    {
     "data": {
      "application/vnd.jupyter.widget-view+json": {
       "model_id": "",
       "version_major": 2,
       "version_minor": 0
      },
      "text/plain": [
       "  0%|          | 0/2 [00:00<?, ?it/s]"
      ]
     },
     "metadata": {},
     "output_type": "display_data"
    },
    {
     "data": {
      "application/vnd.jupyter.widget-view+json": {
       "model_id": "",
       "version_major": 2,
       "version_minor": 0
      },
      "text/plain": [
       "  0%|          | 0/364 [00:00<?, ?it/s]"
      ]
     },
     "metadata": {},
     "output_type": "display_data"
    },
    {
     "data": {
      "application/vnd.jupyter.widget-view+json": {
       "model_id": "",
       "version_major": 2,
       "version_minor": 0
      },
      "text/plain": [
       "  0%|          | 0/515 [00:00<?, ?it/s]"
      ]
     },
     "metadata": {},
     "output_type": "display_data"
    },
    {
     "data": {
      "application/vnd.jupyter.widget-view+json": {
       "model_id": "",
       "version_major": 2,
       "version_minor": 0
      },
      "text/plain": [
       "  0%|          | 0/114 [00:00<?, ?it/s]"
      ]
     },
     "metadata": {},
     "output_type": "display_data"
    },
    {
     "data": {
      "application/vnd.jupyter.widget-view+json": {
       "model_id": "",
       "version_major": 2,
       "version_minor": 0
      },
      "text/plain": [
       "  0%|          | 0/144 [00:00<?, ?it/s]"
      ]
     },
     "metadata": {},
     "output_type": "display_data"
    },
    {
     "data": {
      "application/vnd.jupyter.widget-view+json": {
       "model_id": "",
       "version_major": 2,
       "version_minor": 0
      },
      "text/plain": [
       "  0%|          | 0/8 [00:00<?, ?it/s]"
      ]
     },
     "metadata": {},
     "output_type": "display_data"
    },
    {
     "data": {
      "application/vnd.jupyter.widget-view+json": {
       "model_id": "",
       "version_major": 2,
       "version_minor": 0
      },
      "text/plain": [
       "  0%|          | 0/140 [00:00<?, ?it/s]"
      ]
     },
     "metadata": {},
     "output_type": "display_data"
    },
    {
     "data": {
      "application/vnd.jupyter.widget-view+json": {
       "model_id": "",
       "version_major": 2,
       "version_minor": 0
      },
      "text/plain": [
       "  0%|          | 0/6 [00:00<?, ?it/s]"
      ]
     },
     "metadata": {},
     "output_type": "display_data"
    },
    {
     "data": {
      "application/vnd.jupyter.widget-view+json": {
       "model_id": "",
       "version_major": 2,
       "version_minor": 0
      },
      "text/plain": [
       "  0%|          | 0/80 [00:00<?, ?it/s]"
      ]
     },
     "metadata": {},
     "output_type": "display_data"
    },
    {
     "data": {
      "application/vnd.jupyter.widget-view+json": {
       "model_id": "",
       "version_major": 2,
       "version_minor": 0
      },
      "text/plain": [
       "  0%|          | 0/3 [00:00<?, ?it/s]"
      ]
     },
     "metadata": {},
     "output_type": "display_data"
    },
    {
     "data": {
      "application/vnd.jupyter.widget-view+json": {
       "model_id": "",
       "version_major": 2,
       "version_minor": 0
      },
      "text/plain": [
       "  0%|          | 0/292 [00:00<?, ?it/s]"
      ]
     },
     "metadata": {},
     "output_type": "display_data"
    },
    {
     "data": {
      "application/vnd.jupyter.widget-view+json": {
       "model_id": "",
       "version_major": 2,
       "version_minor": 0
      },
      "text/plain": [
       "  0%|          | 0/460 [00:00<?, ?it/s]"
      ]
     },
     "metadata": {},
     "output_type": "display_data"
    },
    {
     "data": {
      "application/vnd.jupyter.widget-view+json": {
       "model_id": "",
       "version_major": 2,
       "version_minor": 0
      },
      "text/plain": [
       "  0%|          | 0/109 [00:00<?, ?it/s]"
      ]
     },
     "metadata": {},
     "output_type": "display_data"
    },
    {
     "data": {
      "application/vnd.jupyter.widget-view+json": {
       "model_id": "",
       "version_major": 2,
       "version_minor": 0
      },
      "text/plain": [
       "  0%|          | 0/141 [00:00<?, ?it/s]"
      ]
     },
     "metadata": {},
     "output_type": "display_data"
    },
    {
     "data": {
      "application/vnd.jupyter.widget-view+json": {
       "model_id": "d05cf938fc0c4e5cac7b3f914b00ffad",
       "version_major": 2,
       "version_minor": 0
      },
      "text/plain": [
       "  0%|          | 0/5 [00:00<?, ?it/s]"
      ]
     },
     "metadata": {},
     "output_type": "display_data"
    },
    {
     "data": {
      "application/vnd.jupyter.widget-view+json": {
       "model_id": "",
       "version_major": 2,
       "version_minor": 0
      },
      "text/plain": [
       "  0%|          | 0/8 [00:00<?, ?it/s]"
      ]
     },
     "metadata": {},
     "output_type": "display_data"
    },
    {
     "data": {
      "application/vnd.jupyter.widget-view+json": {
       "model_id": "",
       "version_major": 2,
       "version_minor": 0
      },
      "text/plain": [
       "  0%|          | 0/135 [00:00<?, ?it/s]"
      ]
     },
     "metadata": {},
     "output_type": "display_data"
    },
    {
     "data": {
      "application/vnd.jupyter.widget-view+json": {
       "model_id": "",
       "version_major": 2,
       "version_minor": 0
      },
      "text/plain": [
       "  0%|          | 0/5 [00:00<?, ?it/s]"
      ]
     },
     "metadata": {},
     "output_type": "display_data"
    },
    {
     "data": {
      "application/vnd.jupyter.widget-view+json": {
       "model_id": "",
       "version_major": 2,
       "version_minor": 0
      },
      "text/plain": [
       "  0%|          | 0/71 [00:00<?, ?it/s]"
      ]
     },
     "metadata": {},
     "output_type": "display_data"
    },
    {
     "data": {
      "application/vnd.jupyter.widget-view+json": {
       "model_id": "",
       "version_major": 2,
       "version_minor": 0
      },
      "text/plain": [
       "  0%|          | 0/2 [00:00<?, ?it/s]"
      ]
     },
     "metadata": {},
     "output_type": "display_data"
    },
    {
     "data": {
      "application/vnd.jupyter.widget-view+json": {
       "model_id": "",
       "version_major": 2,
       "version_minor": 0
      },
      "text/plain": [
       "  0%|          | 0/338 [00:00<?, ?it/s]"
      ]
     },
     "metadata": {},
     "output_type": "display_data"
    },
    {
     "data": {
      "application/vnd.jupyter.widget-view+json": {
       "model_id": "",
       "version_major": 2,
       "version_minor": 0
      },
      "text/plain": [
       "  0%|          | 0/473 [00:00<?, ?it/s]"
      ]
     },
     "metadata": {},
     "output_type": "display_data"
    },
    {
     "data": {
      "application/vnd.jupyter.widget-view+json": {
       "model_id": "",
       "version_major": 2,
       "version_minor": 0
      },
      "text/plain": [
       "  0%|          | 0/104 [00:00<?, ?it/s]"
      ]
     },
     "metadata": {},
     "output_type": "display_data"
    },
    {
     "data": {
      "application/vnd.jupyter.widget-view+json": {
       "model_id": "",
       "version_major": 2,
       "version_minor": 0
      },
      "text/plain": [
       "  0%|          | 0/139 [00:00<?, ?it/s]"
      ]
     },
     "metadata": {},
     "output_type": "display_data"
    },
    {
     "data": {
      "application/vnd.jupyter.widget-view+json": {
       "model_id": "",
       "version_major": 2,
       "version_minor": 0
      },
      "text/plain": [
       "  0%|          | 0/8 [00:00<?, ?it/s]"
      ]
     },
     "metadata": {},
     "output_type": "display_data"
    },
    {
     "data": {
      "application/vnd.jupyter.widget-view+json": {
       "model_id": "",
       "version_major": 2,
       "version_minor": 0
      },
      "text/plain": [
       "  0%|          | 0/129 [00:00<?, ?it/s]"
      ]
     },
     "metadata": {},
     "output_type": "display_data"
    },
    {
     "data": {
      "application/vnd.jupyter.widget-view+json": {
       "model_id": "",
       "version_major": 2,
       "version_minor": 0
      },
      "text/plain": [
       "  0%|          | 0/5 [00:00<?, ?it/s]"
      ]
     },
     "metadata": {},
     "output_type": "display_data"
    },
    {
     "data": {
      "application/vnd.jupyter.widget-view+json": {
       "model_id": "",
       "version_major": 2,
       "version_minor": 0
      },
      "text/plain": [
       "  0%|          | 0/72 [00:00<?, ?it/s]"
      ]
     },
     "metadata": {},
     "output_type": "display_data"
    },
    {
     "data": {
      "application/vnd.jupyter.widget-view+json": {
       "model_id": "",
       "version_major": 2,
       "version_minor": 0
      },
      "text/plain": [
       "  0%|          | 0/2 [00:00<?, ?it/s]"
      ]
     },
     "metadata": {},
     "output_type": "display_data"
    },
    {
     "data": {
      "application/vnd.jupyter.widget-view+json": {
       "model_id": "",
       "version_major": 2,
       "version_minor": 0
      },
      "text/plain": [
       "  0%|          | 0/293 [00:00<?, ?it/s]"
      ]
     },
     "metadata": {},
     "output_type": "display_data"
    },
    {
     "data": {
      "application/vnd.jupyter.widget-view+json": {
       "model_id": "",
       "version_major": 2,
       "version_minor": 0
      },
      "text/plain": [
       "  0%|          | 0/425 [00:00<?, ?it/s]"
      ]
     },
     "metadata": {},
     "output_type": "display_data"
    },
    {
     "data": {
      "application/vnd.jupyter.widget-view+json": {
       "model_id": "",
       "version_major": 2,
       "version_minor": 0
      },
      "text/plain": [
       "  0%|          | 0/95 [00:00<?, ?it/s]"
      ]
     },
     "metadata": {},
     "output_type": "display_data"
    },
    {
     "data": {
      "application/vnd.jupyter.widget-view+json": {
       "model_id": "",
       "version_major": 2,
       "version_minor": 0
      },
      "text/plain": [
       "  0%|          | 0/133 [00:00<?, ?it/s]"
      ]
     },
     "metadata": {},
     "output_type": "display_data"
    },
    {
     "data": {
      "application/vnd.jupyter.widget-view+json": {
       "model_id": "",
       "version_major": 2,
       "version_minor": 0
      },
      "text/plain": [
       "  0%|          | 0/8 [00:00<?, ?it/s]"
      ]
     },
     "metadata": {},
     "output_type": "display_data"
    },
    {
     "data": {
      "application/vnd.jupyter.widget-view+json": {
       "model_id": "",
       "version_major": 2,
       "version_minor": 0
      },
      "text/plain": [
       "  0%|          | 0/129 [00:00<?, ?it/s]"
      ]
     },
     "metadata": {},
     "output_type": "display_data"
    },
    {
     "data": {
      "application/vnd.jupyter.widget-view+json": {
       "model_id": "",
       "version_major": 2,
       "version_minor": 0
      },
      "text/plain": [
       "  0%|          | 0/4 [00:00<?, ?it/s]"
      ]
     },
     "metadata": {},
     "output_type": "display_data"
    },
    {
     "data": {
      "application/vnd.jupyter.widget-view+json": {
       "model_id": "",
       "version_major": 2,
       "version_minor": 0
      },
      "text/plain": [
       "  0%|          | 0/76 [00:00<?, ?it/s]"
      ]
     },
     "metadata": {},
     "output_type": "display_data"
    },
    {
     "data": {
      "application/vnd.jupyter.widget-view+json": {
       "model_id": "",
       "version_major": 2,
       "version_minor": 0
      },
      "text/plain": [
       "  0%|          | 0/2 [00:00<?, ?it/s]"
      ]
     },
     "metadata": {},
     "output_type": "display_data"
    },
    {
     "data": {
      "application/vnd.jupyter.widget-view+json": {
       "model_id": "",
       "version_major": 2,
       "version_minor": 0
      },
      "text/plain": [
       "  0%|          | 0/332 [00:00<?, ?it/s]"
      ]
     },
     "metadata": {},
     "output_type": "display_data"
    },
    {
     "data": {
      "application/vnd.jupyter.widget-view+json": {
       "model_id": "",
       "version_major": 2,
       "version_minor": 0
      },
      "text/plain": [
       "  0%|          | 0/484 [00:00<?, ?it/s]"
      ]
     },
     "metadata": {},
     "output_type": "display_data"
    },
    {
     "data": {
      "application/vnd.jupyter.widget-view+json": {
       "model_id": "",
       "version_major": 2,
       "version_minor": 0
      },
      "text/plain": [
       "  0%|          | 0/107 [00:00<?, ?it/s]"
      ]
     },
     "metadata": {},
     "output_type": "display_data"
    },
    {
     "data": {
      "application/vnd.jupyter.widget-view+json": {
       "model_id": "",
       "version_major": 2,
       "version_minor": 0
      },
      "text/plain": [
       "  0%|          | 0/134 [00:00<?, ?it/s]"
      ]
     },
     "metadata": {},
     "output_type": "display_data"
    },
    {
     "data": {
      "application/vnd.jupyter.widget-view+json": {
       "model_id": "",
       "version_major": 2,
       "version_minor": 0
      },
      "text/plain": [
       "  0%|          | 0/8 [00:00<?, ?it/s]"
      ]
     },
     "metadata": {},
     "output_type": "display_data"
    },
    {
     "data": {
      "application/vnd.jupyter.widget-view+json": {
       "model_id": "",
       "version_major": 2,
       "version_minor": 0
      },
      "text/plain": [
       "  0%|          | 0/129 [00:00<?, ?it/s]"
      ]
     },
     "metadata": {},
     "output_type": "display_data"
    },
    {
     "data": {
      "application/vnd.jupyter.widget-view+json": {
       "model_id": "",
       "version_major": 2,
       "version_minor": 0
      },
      "text/plain": [
       "  0%|          | 0/4 [00:00<?, ?it/s]"
      ]
     },
     "metadata": {},
     "output_type": "display_data"
    },
    {
     "data": {
      "application/vnd.jupyter.widget-view+json": {
       "model_id": "",
       "version_major": 2,
       "version_minor": 0
      },
      "text/plain": [
       "  0%|          | 0/74 [00:00<?, ?it/s]"
      ]
     },
     "metadata": {},
     "output_type": "display_data"
    },
    {
     "data": {
      "application/vnd.jupyter.widget-view+json": {
       "model_id": "",
       "version_major": 2,
       "version_minor": 0
      },
      "text/plain": [
       "  0%|          | 0/2 [00:00<?, ?it/s]"
      ]
     },
     "metadata": {},
     "output_type": "display_data"
    },
    {
     "data": {
      "application/vnd.jupyter.widget-view+json": {
       "model_id": "",
       "version_major": 2,
       "version_minor": 0
      },
      "text/plain": [
       "  0%|          | 0/333 [00:00<?, ?it/s]"
      ]
     },
     "metadata": {},
     "output_type": "display_data"
    },
    {
     "data": {
      "application/vnd.jupyter.widget-view+json": {
       "model_id": "",
       "version_major": 2,
       "version_minor": 0
      },
      "text/plain": [
       "  0%|          | 0/486 [00:00<?, ?it/s]"
      ]
     },
     "metadata": {},
     "output_type": "display_data"
    },
    {
     "data": {
      "application/vnd.jupyter.widget-view+json": {
       "model_id": "",
       "version_major": 2,
       "version_minor": 0
      },
      "text/plain": [
       "  0%|          | 0/103 [00:00<?, ?it/s]"
      ]
     },
     "metadata": {},
     "output_type": "display_data"
    },
    {
     "data": {
      "application/vnd.jupyter.widget-view+json": {
       "model_id": "",
       "version_major": 2,
       "version_minor": 0
      },
      "text/plain": [
       "  0%|          | 0/132 [00:00<?, ?it/s]"
      ]
     },
     "metadata": {},
     "output_type": "display_data"
    },
    {
     "data": {
      "application/vnd.jupyter.widget-view+json": {
       "model_id": "",
       "version_major": 2,
       "version_minor": 0
      },
      "text/plain": [
       "  0%|          | 0/8 [00:00<?, ?it/s]"
      ]
     },
     "metadata": {},
     "output_type": "display_data"
    },
    {
     "data": {
      "application/vnd.jupyter.widget-view+json": {
       "model_id": "",
       "version_major": 2,
       "version_minor": 0
      },
      "text/plain": [
       "  0%|          | 0/128 [00:00<?, ?it/s]"
      ]
     },
     "metadata": {},
     "output_type": "display_data"
    },
    {
     "data": {
      "application/vnd.jupyter.widget-view+json": {
       "model_id": "",
       "version_major": 2,
       "version_minor": 0
      },
      "text/plain": [
       "  0%|          | 0/6 [00:00<?, ?it/s]"
      ]
     },
     "metadata": {},
     "output_type": "display_data"
    },
    {
     "data": {
      "application/vnd.jupyter.widget-view+json": {
       "model_id": "",
       "version_major": 2,
       "version_minor": 0
      },
      "text/plain": [
       "  0%|          | 0/72 [00:00<?, ?it/s]"
      ]
     },
     "metadata": {},
     "output_type": "display_data"
    },
    {
     "data": {
      "application/vnd.jupyter.widget-view+json": {
       "model_id": "",
       "version_major": 2,
       "version_minor": 0
      },
      "text/plain": [
       "  0%|          | 0/1 [00:00<?, ?it/s]"
      ]
     },
     "metadata": {},
     "output_type": "display_data"
    },
    {
     "data": {
      "application/vnd.jupyter.widget-view+json": {
       "model_id": "",
       "version_major": 2,
       "version_minor": 0
      },
      "text/plain": [
       "  0%|          | 0/267 [00:00<?, ?it/s]"
      ]
     },
     "metadata": {},
     "output_type": "display_data"
    },
    {
     "data": {
      "application/vnd.jupyter.widget-view+json": {
       "model_id": "",
       "version_major": 2,
       "version_minor": 0
      },
      "text/plain": [
       "  0%|          | 0/420 [00:00<?, ?it/s]"
      ]
     },
     "metadata": {},
     "output_type": "display_data"
    },
    {
     "data": {
      "application/vnd.jupyter.widget-view+json": {
       "model_id": "",
       "version_major": 2,
       "version_minor": 0
      },
      "text/plain": [
       "  0%|          | 0/104 [00:00<?, ?it/s]"
      ]
     },
     "metadata": {},
     "output_type": "display_data"
    },
    {
     "data": {
      "application/vnd.jupyter.widget-view+json": {
       "model_id": "",
       "version_major": 2,
       "version_minor": 0
      },
      "text/plain": [
       "  0%|          | 0/133 [00:00<?, ?it/s]"
      ]
     },
     "metadata": {},
     "output_type": "display_data"
    }
   ],
   "source": [
    "#Model Testing and Prediction\n",
    "polydeg = 2\n",
    "risk_appetite = 4.4\n",
    "pred=pd.DataFrame(columns=['ID','Predictions'])\n",
    "test=pd.DataFrame(columns=['ID','Predictions'])\n",
    "for k in tqdm([1,2,5,7,8]):\n",
    "    for l in tqdm([*range(1,9)], leave=False):\n",
    "        dfo=pd.read_csv(path+'/PredSO_N50'+str(k)+'_'+str(l).zfill(2)+'.csv')\n",
    "        df=pd.read_csv(path+'/PredS_N50'+str(k)+'_'+str(l).zfill(2)+'.csv')\n",
    "        df.reset_index(drop=True, inplace=True)\n",
    "        dfo.reset_index(drop=True, inplace=True)\n",
    "        df2=df.copy()\n",
    "        for index in tqdm(range(dfo.shape[0]), leave=False):\n",
    "            if np.isnan(dfo.iloc[index]['temperature']):\n",
    "                yp=MLPred('t', df2, spatialt, dfo.iloc[index]['ID'], ID2Index, dfo.iloc[index]['humidity'], index, extent1, extent2, extent3, extent4, extent5, w1, w2, w3, w4, w5, polydeg, risk_appetite)\n",
    "                new_row = pd.Series([dfo.iloc[index]['ID'], yp], index=pred.columns)\n",
    "                pred = pred.append(new_row,ignore_index=True)\n",
    "                df2['timestamp']=df['timestamp']\n",
    "                \n",
    "            if np.isnan(dfo.iloc[index]['humidity']):\n",
    "                yp=MLPred('h', df2, spatialh, dfo.iloc[index]['ID'], ID2Index, dfo.iloc[index]['temperature'], index, extent1, extent2, extent3, extent4, extent5, w1, w2, w3, w4, w5, polydeg, risk_appetite)\n",
    "                new_row = pd.Series([dfo.iloc[index]['ID'], yp], index=pred.columns)\n",
    "                pred = pred.append(new_row,ignore_index=True)\n",
    "                df2['timestamp']=df['timestamp']\n",
    "            \n",
    "for k in tqdm([1,2,5,7,8]):\n",
    "    for l in tqdm([*range(1,9)], leave=False):\n",
    "        dfo=pd.read_csv(path+'/TestSO_N50'+str(k)+'_'+str(l).zfill(2)+'.csv')\n",
    "        df=pd.read_csv(path+'/TestS_N50'+str(k)+'_'+str(l).zfill(2)+'.csv')\n",
    "        df.reset_index(drop=True, inplace=True)\n",
    "        dfo.reset_index(drop=True, inplace=True)\n",
    "        df2=df.copy()\n",
    "        for index in tqdm(range(dfo.shape[0]), leave=False):\n",
    "            if np.isnan(dfo.iloc[index]['temperature']):\n",
    "                yp=MLPred('t', df2, testt, dfo.iloc[index]['ID'], TestID2Index, dfo.iloc[index]['humidity'], index, extent1, extent2, extent3, extent4, extent5, w1, w2, w3, w4, w5, polydeg, risk_appetite)\n",
    "                new_row = pd.Series([dfo.iloc[index]['ID'], yp], index=test.columns)\n",
    "                test = test.append(new_row,ignore_index=True)\n",
    "                df2['timestamp']=df['timestamp']\n",
    "            \n",
    "            if np.isnan(dfo.iloc[index]['humidity']):\n",
    "                yp=MLPred('h', df2, testh, dfo.iloc[index]['ID'], TestID2Index, dfo.iloc[index]['temperature'], index, extent1, extent2, extent3, extent4, extent5, w1, w2, w3, w4, w5, polydeg, risk_appetite)\n",
    "                new_row = pd.Series([dfo.iloc[index]['ID'], yp], index=test.columns)\n",
    "                test = test.append(new_row,ignore_index=True)\n",
    "                df2['timestamp']=df['timestamp']\n",
    "            \n",
    "pred = pred.astype({'ID':'int32','Predictions':'float64'})    \n",
    "test = test.astype({'ID':'int32','Predictions':'float64'})"
   ]
  },
  {
   "cell_type": "code",
   "execution_count": 6,
   "id": "7df75669",
   "metadata": {},
   "outputs": [
    {
     "name": "stdout",
     "output_type": "stream",
     "text": [
      "0.7843312190160858\n"
     ]
    },
    {
     "data": {
      "text/html": [
       "<div>\n",
       "<style scoped>\n",
       "    .dataframe tbody tr th:only-of-type {\n",
       "        vertical-align: middle;\n",
       "    }\n",
       "\n",
       "    .dataframe tbody tr th {\n",
       "        vertical-align: top;\n",
       "    }\n",
       "\n",
       "    .dataframe thead th {\n",
       "        text-align: right;\n",
       "    }\n",
       "</style>\n",
       "<table border=\"1\" class=\"dataframe\">\n",
       "  <thead>\n",
       "    <tr style=\"text-align: right;\">\n",
       "      <th></th>\n",
       "      <th>ID</th>\n",
       "      <th>Predictions</th>\n",
       "      <th>Actual</th>\n",
       "      <th>SquareDiff</th>\n",
       "    </tr>\n",
       "  </thead>\n",
       "  <tbody>\n",
       "    <tr>\n",
       "      <th>44</th>\n",
       "      <td>759</td>\n",
       "      <td>26.351346</td>\n",
       "      <td>32.527</td>\n",
       "      <td>3.813871e+01</td>\n",
       "    </tr>\n",
       "    <tr>\n",
       "      <th>251</th>\n",
       "      <td>4252</td>\n",
       "      <td>45.126190</td>\n",
       "      <td>50.340</td>\n",
       "      <td>2.718382e+01</td>\n",
       "    </tr>\n",
       "    <tr>\n",
       "      <th>60</th>\n",
       "      <td>1012</td>\n",
       "      <td>46.506014</td>\n",
       "      <td>43.257</td>\n",
       "      <td>1.055609e+01</td>\n",
       "    </tr>\n",
       "    <tr>\n",
       "      <th>250</th>\n",
       "      <td>4231</td>\n",
       "      <td>39.172362</td>\n",
       "      <td>42.140</td>\n",
       "      <td>8.806878e+00</td>\n",
       "    </tr>\n",
       "    <tr>\n",
       "      <th>94</th>\n",
       "      <td>1619</td>\n",
       "      <td>32.417524</td>\n",
       "      <td>35.200</td>\n",
       "      <td>7.742173e+00</td>\n",
       "    </tr>\n",
       "    <tr>\n",
       "      <th>...</th>\n",
       "      <td>...</td>\n",
       "      <td>...</td>\n",
       "      <td>...</td>\n",
       "      <td>...</td>\n",
       "    </tr>\n",
       "    <tr>\n",
       "      <th>341</th>\n",
       "      <td>5656</td>\n",
       "      <td>12.245922</td>\n",
       "      <td>12.250</td>\n",
       "      <td>1.663241e-05</td>\n",
       "    </tr>\n",
       "    <tr>\n",
       "      <th>319</th>\n",
       "      <td>5330</td>\n",
       "      <td>60.124017</td>\n",
       "      <td>60.120</td>\n",
       "      <td>1.613845e-05</td>\n",
       "    </tr>\n",
       "    <tr>\n",
       "      <th>226</th>\n",
       "      <td>3781</td>\n",
       "      <td>17.739305</td>\n",
       "      <td>17.740</td>\n",
       "      <td>4.834070e-07</td>\n",
       "    </tr>\n",
       "    <tr>\n",
       "      <th>89</th>\n",
       "      <td>1509</td>\n",
       "      <td>23.220000</td>\n",
       "      <td>23.220</td>\n",
       "      <td>3.337348e-20</td>\n",
       "    </tr>\n",
       "    <tr>\n",
       "      <th>303</th>\n",
       "      <td>5058</td>\n",
       "      <td>15.480000</td>\n",
       "      <td>15.480</td>\n",
       "      <td>3.155444e-30</td>\n",
       "    </tr>\n",
       "  </tbody>\n",
       "</table>\n",
       "<p>400 rows × 4 columns</p>\n",
       "</div>"
      ],
      "text/plain": [
       "       ID  Predictions  Actual    SquareDiff\n",
       "44    759    26.351346  32.527  3.813871e+01\n",
       "251  4252    45.126190  50.340  2.718382e+01\n",
       "60   1012    46.506014  43.257  1.055609e+01\n",
       "250  4231    39.172362  42.140  8.806878e+00\n",
       "94   1619    32.417524  35.200  7.742173e+00\n",
       "..    ...          ...     ...           ...\n",
       "341  5656    12.245922  12.250  1.663241e-05\n",
       "319  5330    60.124017  60.120  1.613845e-05\n",
       "226  3781    17.739305  17.740  4.834070e-07\n",
       "89   1509    23.220000  23.220  3.337348e-20\n",
       "303  5058    15.480000  15.480  3.155444e-30\n",
       "\n",
       "[400 rows x 4 columns]"
      ]
     },
     "execution_count": 6,
     "metadata": {},
     "output_type": "execute_result"
    }
   ],
   "source": [
    "#Check RMSE\n",
    "test['Actual']=testval['Actual']\n",
    "test['SquareDiff']=(test['Actual']-test['Predictions'])**2\n",
    "RMSE = (test['SquareDiff'].mean())**0.5\n",
    "print(RMSE)\n",
    "sorted_test=test.sort_values(by=['SquareDiff'], ascending=False)\n",
    "sorted_test"
   ]
  },
  {
   "cell_type": "code",
   "execution_count": 7,
   "id": "5f672cd5",
   "metadata": {},
   "outputs": [],
   "source": [
    "pred.to_csv('D:/Workspace/Projects/BayesianLearning/Project1_Data/CSV/pred.csv',index=False)\n",
    "sorted_test.to_csv('D:/Workspace/Projects/BayesianLearning/Project1_Data/CSV/test.csv',index=False)"
   ]
  }
 ],
 "metadata": {
  "kernelspec": {
   "display_name": "Python 3 (ipykernel)",
   "language": "python",
   "name": "python3"
  },
  "language_info": {
   "codemirror_mode": {
    "name": "ipython",
    "version": 3
   },
   "file_extension": ".py",
   "mimetype": "text/x-python",
   "name": "python",
   "nbconvert_exporter": "python",
   "pygments_lexer": "ipython3",
   "version": "3.9.12"
  }
 },
 "nbformat": 4,
 "nbformat_minor": 5
}
